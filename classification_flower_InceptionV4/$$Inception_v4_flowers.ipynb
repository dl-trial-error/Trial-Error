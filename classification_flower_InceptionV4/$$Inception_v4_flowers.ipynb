{
 "cells": [
  {
   "cell_type": "code",
   "execution_count": null,
   "metadata": {
    "collapsed": true
   },
   "outputs": [],
   "source": [
    "import os\n",
    "import numpy as np\n",
    "from scipy.misc import imread, imresize\n",
    "import tensorflow as tf\n",
    "from tensorflow.examples.tutorials.mnist import input_data\n",
    "import matplotlib.pyplot as plt\n",
    "import random\n",
    "\n",
    "tf.set_random_seed(777)"
   ]
  },
  {
   "cell_type": "markdown",
   "metadata": {},
   "source": [
    "# hyper parameters\n",
    "learning_rate = 0.01\n",
    "training_epochs = 50\n",
    "batch_size = 16\n",
    "n_class = 17\n",
    "seed = 777\n",
    "num_epochs_per_decay = 10\n",
    "tf.set_random_seed(seed)\n",
    "cur_dir = os.getcwd()"
   ]
  },
  {
   "cell_type": "code",
   "execution_count": null,
   "metadata": {
    "collapsed": true
   },
   "outputs": [],
   "source": [
    "# hyper parameters\n",
    "learning_rate = 0.01\n",
    "training_epochs = 100\n",
    "batch_size = 8\n",
    "n_class = 17\n",
    "seed = 777\n",
    "num_epochs_per_decay = 10\n",
    "tf.set_random_seed(seed)\n",
    "cur_dir = os.getcwd()\n",
    "\n",
    "#Image Data\n",
    "img_height = 299\n",
    "img_width  = 299\n",
    "n_train    = 1088\n",
    "n_test     = 272\n",
    "input_channel = 3\n",
    "\n",
    "tfrecord_train = 'train.tfrecord'\n",
    "tfrecord_test = 'test.tfrecord'\n",
    "tfrecord_dir = 'tfrecord_flowers'"
   ]
  },
  {
   "cell_type": "code",
   "execution_count": null,
   "metadata": {
    "collapsed": true
   },
   "outputs": [],
   "source": [
    "# mnist = input_data.read_data_sets(\"../data/\", one_hot=True)\n",
    "# Check out https://www.tensorflow.org/get_started/mnist/beginners for\n",
    "# more information about the mnist dataset"
   ]
  },
  {
   "cell_type": "code",
   "execution_count": null,
   "metadata": {
    "collapsed": true
   },
   "outputs": [],
   "source": [
    "keep_prob = tf.placeholder(tf.float32)\n",
    "\n",
    "# X = tf.placeholder(tf.float32, [None, 784], name=\"X\")\n",
    "X = tf.placeholder(tf.float32, [None, img_height, img_width, 3], name=\"X\")\n",
    "Y = tf.placeholder(tf.float32, [None, n_class], name = \"Y\")\n",
    "is_train = tf.placeholder(tf.bool, name=\"is_train\")"
   ]
  },
  {
   "cell_type": "code",
   "execution_count": null,
   "metadata": {
    "collapsed": true
   },
   "outputs": [],
   "source": [
    "def read_and_decode(filename_queue, n_batch):\n",
    "    \n",
    "    reader = tf.TFRecordReader()\n",
    "    _, serialized_example = reader.read(filename_queue)\n",
    "    \n",
    "    features = tf.parse_single_example(\n",
    "        serialized_example,\n",
    "        features={            \n",
    "            'image': tf.FixedLenFeature([], tf.string),\n",
    "            'label': tf.FixedLenFeature([], tf.int64)\n",
    "        })\n",
    "    \n",
    "    # Convert from a scalar string tensor\n",
    "    image = tf.decode_raw(features['image'], tf.uint8)        \n",
    "    label = tf.cast(features['label'], tf.int32)\n",
    "    label_onehot = tf.one_hot(label, depth=n_class)\n",
    "    \n",
    "    image = tf.reshape(image, [img_height, img_width, input_channel])    \n",
    "        \n",
    "    images, labels = tf.train.batch([image, label_onehot],\n",
    "                                           batch_size=n_batch,\n",
    "                                           capacity=10000,\n",
    "                                           num_threads=4)\n",
    "    \n",
    "    return images, labels"
   ]
  },
  {
   "cell_type": "code",
   "execution_count": null,
   "metadata": {
    "collapsed": true
   },
   "outputs": [],
   "source": [
    "def preproc(x):\n",
    "    # x = x*2 - 1.0\n",
    "    # per-example mean subtraction (http://ufldl.stanford.edu/wiki/index.php/Data_Preprocessing)\n",
    "    mean = tf.reduce_mean(x, axis=1, keep_dims=True)\n",
    "    return x - mean"
   ]
  },
  {
   "cell_type": "code",
   "execution_count": null,
   "metadata": {
    "collapsed": true
   },
   "outputs": [],
   "source": [
    "def conv_bn_activ_dropout(x, n_filters, kernel_size, strides, dropout_rate, training, seed, \n",
    "                          padding='SAME', activ_fn=tf.nn.relu, name=\"conv_bn_act_dr\"):\n",
    "    #with tf.variable_scope(name):\n",
    "    net = tf.layers.conv2d(x, n_filters, kernel_size, strides=strides, padding=padding, use_bias=False, \n",
    "                           kernel_initializer=tf.contrib.layers.xavier_initializer(seed=seed))\n",
    "    net = tf.layers.batch_normalization(net, training=training)\n",
    "    net = activ_fn(net)\n",
    "    if dropout_rate > 0.0:            \n",
    "        net = tf.layers.dropout(net, rate=dropout_rate, training=training, seed=seed)\n",
    "    return net"
   ]
  },
  {
   "cell_type": "code",
   "execution_count": null,
   "metadata": {
    "collapsed": true
   },
   "outputs": [],
   "source": [
    "def conv_bn_activ(x, n_filters, kernel_size, strides=1, training=is_train, seed=seed, \n",
    "                  padding='SAME', activ_fn=tf.nn.relu, name=\"conv_bn_act\"):\n",
    "    return conv_bn_activ_dropout(x, n_filters, kernel_size, strides, 0.0, training, seed, \n",
    "                                 padding=padding, activ_fn=activ_fn, name=name)"
   ]
  },
  {
   "cell_type": "code",
   "execution_count": null,
   "metadata": {
    "collapsed": true
   },
   "outputs": [],
   "source": [
    "def stem(x, name=\"stem\"):\n",
    "    with tf.variable_scope(name):\n",
    "        with tf.variable_scope(\"stem1\"):\n",
    "            # x : 299x299x3\n",
    "            net = conv_bn_activ(x, 32, [3, 3], 2, padding='VALID') # 149x149x32\n",
    "            net = conv_bn_activ(net, 32, [3, 3], padding='VALID') # 147x147x32\n",
    "            net = conv_bn_activ(net, 64, [3, 3]) # 147x147x64\n",
    "            b1 = tf.layers.max_pooling2d(net, [3, 3], 2, padding='VALID') # 73x73x64\n",
    "            b2 = conv_bn_activ(net, 96, [3, 3], 2, padding='VALID') # 73x73x96\n",
    "            net = tf.concat([b1, b2], axis=-1) # 73x73x160\n",
    "            print(net)\n",
    "        with tf.variable_scope(\"stem2\"):\n",
    "            b1 = conv_bn_activ(net, 64, [1, 1])\n",
    "            b1 = conv_bn_activ(b1, 96, [3, 3], padding='VALID')\n",
    "            b2 = conv_bn_activ(net, 64, [1, 1])\n",
    "            b2 = conv_bn_activ(b2, 64, [1, 7])\n",
    "            b2 = conv_bn_activ(b2, 64, [7, 1])\n",
    "            b2 = conv_bn_activ(b2, 96, [3, 3], padding='VALID')\n",
    "            net = tf.concat([b1, b2], axis=-1) # 71x71x192\n",
    "            print(net)\n",
    "        with tf.variable_scope(\"stem3\"):\n",
    "            b1 = conv_bn_activ(net, 192, [3, 3], 2, padding='VALID')\n",
    "            b2 = tf.layers.max_pooling2d(net, [3, 3], 2, padding='VALID')\n",
    "            net = tf.concat([b1, b2], axis=-1) # 35x35x384\n",
    "    print(net)\n",
    "    return net"
   ]
  },
  {
   "cell_type": "code",
   "execution_count": null,
   "metadata": {
    "collapsed": true
   },
   "outputs": [],
   "source": [
    "def inception_A(x, name=\"inception_A\"):\n",
    "    # num of channels : 96 x 4 = 384\n",
    "    with tf.variable_scope(name):\n",
    "        b1 = tf.layers.average_pooling2d(x, [3, 3], 1, padding='SAME')\n",
    "        b1 = conv_bn_activ(b1, 96, [1, 1])\n",
    "        b2 = conv_bn_activ(x, 96, [1, 1])\n",
    "        b3 = conv_bn_activ(x, 64, [1, 1])\n",
    "        b3 = conv_bn_activ(b3, 96, [3, 3])\n",
    "        b4 = conv_bn_activ(x, 64, [1, 1])\n",
    "        b4 = conv_bn_activ(b4, 96, [3, 3])\n",
    "        b4 = conv_bn_activ(b4, 96, [3, 3])\n",
    "        net = tf.concat([b1, b2, b3, b4], axis=-1)\n",
    "        print(net)\n",
    "        return net"
   ]
  },
  {
   "cell_type": "code",
   "execution_count": null,
   "metadata": {
    "collapsed": true
   },
   "outputs": [],
   "source": [
    "def inception_B(x, name=\"inception_B\"):\n",
    "    # num of channels : 128 + 384 + 256 + 256 = 1024\n",
    "    with tf.variable_scope(name):\n",
    "        b1 = tf.layers.average_pooling2d(x, [3, 3], 1, padding='SAME')\n",
    "        b1 = conv_bn_activ(b1, 128, [1, 1])\n",
    "        b2 = conv_bn_activ(x, 384, [1, 1])\n",
    "        b3 = conv_bn_activ(x, 192, [1, 1])\n",
    "        b3 = conv_bn_activ(b3, 224, [1, 7])\n",
    "        b3 = conv_bn_activ(b3, 256, [7, 1])\n",
    "        b4 = conv_bn_activ(x, 192, [1, 1])\n",
    "#        b4 = conv_bn_activ(b4, 192, [1, 7]) #논문과 다름\n",
    "#        b4 = conv_bn_activ(b4, 224, [7, 1]) #논문과 다름\n",
    "#        b4 = conv_bn_activ(b4, 224, [1, 7]) #논문과 다름\n",
    "#        b4 = conv_bn_activ(b4, 256, [7, 1]) #논문과 다름\n",
    "        b4 = conv_bn_activ(b4, 192, [7, 1])\n",
    "        b4 = conv_bn_activ(b4, 224, [1, 7])        \n",
    "        b4 = conv_bn_activ(b4, 224, [7, 1])\n",
    "        b4 = conv_bn_activ(b4, 256, [1, 7])\n",
    "        net = tf.concat([b1, b2, b3, b4], axis=-1)\n",
    "        print(net)\n",
    "        return net"
   ]
  },
  {
   "cell_type": "code",
   "execution_count": null,
   "metadata": {
    "collapsed": true
   },
   "outputs": [],
   "source": [
    "def inception_C(x, name=\"inception_C\"):\n",
    "    # num of channels : 256 * 6 = 1536\n",
    "    with tf.variable_scope(name):\n",
    "        b1 = tf.layers.average_pooling2d(x, [3, 3], 1, padding='SAME')\n",
    "        b1 = conv_bn_activ(b1, 256, [1, 1])\n",
    "        b2 = conv_bn_activ(x, 256, [1, 1])\n",
    "        b3 = conv_bn_activ(x, 384, [1, 1])\n",
    "        b3_1 = conv_bn_activ(b3, 256, [1, 3])\n",
    "        b3_2 = conv_bn_activ(b3, 256, [3, 1])\n",
    "        b4 = conv_bn_activ(x, 384, [1, 1])\n",
    "#        b4 = conv_bn_activ(b4, 448, [1, 3]) #논문과 다름\n",
    "#        b4 = conv_bn_activ(b4, 512, [3, 1]) #논문과 다름\n",
    "        b4 = conv_bn_activ(b4, 448, [3, 1])\n",
    "        b4 = conv_bn_activ(b4, 512, [1, 3])        \n",
    "        b4_1 = conv_bn_activ(b4, 256, [3, 1])\n",
    "        b4_2 = conv_bn_activ(b4, 256, [1, 3])\n",
    "        net = tf.concat([b1, b2, b3_1, b3_2, b4_1, b4_2], axis=-1)\n",
    "        print(net)\n",
    "        return net"
   ]
  },
  {
   "cell_type": "code",
   "execution_count": null,
   "metadata": {
    "collapsed": true
   },
   "outputs": [],
   "source": [
    "def reduction_A(x, name=\"reduction_A\"):\n",
    "    # num of channels : 384 + 384 + 256 = 1024\n",
    "    with tf.variable_scope(name):\n",
    "        b1 = tf.layers.max_pooling2d(x, [3, 3], 2, padding='VALID')\n",
    "        b2 = conv_bn_activ(x, 384, [3, 3], 2, padding='VALID')\n",
    "        b3 = conv_bn_activ(x, 192, [1, 1])\n",
    "        b3 = conv_bn_activ(b3, 224, [3, 3])\n",
    "        b3 = conv_bn_activ(b3, 256, [3, 3], 2, padding='VALID')\n",
    "        net = tf.concat([b1, b2, b3], axis=-1) # 17x17x1024\n",
    "        print(net)\n",
    "        return net"
   ]
  },
  {
   "cell_type": "code",
   "execution_count": null,
   "metadata": {
    "collapsed": true
   },
   "outputs": [],
   "source": [
    "def reduction_B(x, name=\"reduction_B\"):\n",
    "    # num of channes : 1024 + 192 + 320 = 1536\n",
    "    with tf.variable_scope(name):\n",
    "        b1 = tf.layers.max_pooling2d(x, [3, 3], 2, padding='VALID')\n",
    "        b2 = conv_bn_activ(x, 192, [1, 1])\n",
    "        b2 = conv_bn_activ(b2, 192, [3, 3], 2, padding='VALID')\n",
    "        b3 = conv_bn_activ(x, 256, [1, 1])\n",
    "        b3 = conv_bn_activ(b3, 256, [1, 7])\n",
    "        b3 = conv_bn_activ(b3, 320, [7, 1])\n",
    "        b3 = conv_bn_activ(b3, 320, [3, 3], 2, padding='VALID')\n",
    "        net = tf.concat([b1, b2, b3], axis=-1) # 8x8x1536\n",
    "        print(net)\n",
    "        return net"
   ]
  },
  {
   "cell_type": "code",
   "execution_count": null,
   "metadata": {
    "collapsed": true
   },
   "outputs": [],
   "source": [
    "def build_inception_slim(X_img):\n",
    "    net = X_img\n",
    "    with tf.variable_scope(\"stem\"):\n",
    "        net = stem(net)\n",
    "    with tf.variable_scope(\"inception-A\"):\n",
    "        for i in range(4):\n",
    "            net = inception_A(net, name=\"inception_block_a{}\".format(i))\n",
    "    with tf.variable_scope(\"reduction-A\"):\n",
    "        net = reduction_A(net)\n",
    "    with tf.variable_scope(\"inception-B\"):\n",
    "        for i in range(7):\n",
    "            net = inception_B(net, name=\"inception_block_b{}\".format(i))\n",
    "    with tf.variable_scope(\"reduction-B\"):\n",
    "        net = reduction_B(net)\n",
    "    with tf.variable_scope(\"inception-C\"):\n",
    "        for i in range(3):\n",
    "            net = inception_C(net, name=\"inception_block_c{}\".format(i))\n",
    "    with tf.variable_scope(\"fc\"):\n",
    "        net = tf.layers.average_pooling2d(name=\"gap\", inputs=net, pool_size=[8, 8], \n",
    "                                          strides=8, padding='SAME')\n",
    "        print(net)\n",
    "        net = tf.reshape(net, [-1, 1536])\n",
    "        print(net)\n",
    "        net = tf.layers.dropout(net, rate=0.2, training=is_train, seed=seed)        \n",
    "        logits = tf.layers.dense(net, n_class, name=\"logits\", \n",
    "                              kernel_initializer=tf.contrib.layers.variance_scaling_initializer(seed=seed))\n",
    "        print(logits)\n",
    "    return logits"
   ]
  },
  {
   "cell_type": "code",
   "execution_count": null,
   "metadata": {
    "collapsed": false
   },
   "outputs": [],
   "source": [
    "X_img = X\n",
    "logits = build_inception_slim(X_img)"
   ]
  },
  {
   "cell_type": "code",
   "execution_count": null,
   "metadata": {
    "collapsed": true
   },
   "outputs": [],
   "source": [
    "# 전처리 : 평균값 빼줌 (쉐이프가 바뀌었을 경우 ?)\n",
    "# X_pre = preproc(X)\n",
    "# X_img = tf.reshape(X_pre, [-1, 28, 28, 1], name=\"X_img\")"
   ]
  },
  {
   "cell_type": "code",
   "execution_count": null,
   "metadata": {
    "collapsed": false
   },
   "outputs": [],
   "source": [
    "loss = tf.reduce_mean(tf.nn.softmax_cross_entropy_with_logits(logits=logits, labels=Y), name=\"loss\")\n",
    "n_batches_per_epoch = int(n_train / batch_size)\n",
    "print(n_batches_per_epoch)\n",
    "decay_steps = int(n_batches_per_epoch * num_epochs_per_decay)\n",
    "global_step = tf.Variable(0, trainable=False)\n",
    "#learningRate = tf.train.exponential_decay(learning_rate=learning_rate,\n",
    "#                                          global_step= global_step,\n",
    "#                                          decay_steps=decay_steps,\n",
    "#                                          decay_rate= 0.1,\n",
    "#                                          staircase=True)\n",
    "#learningRate = tf.train.exponential_decay(learning_rate=learning_rate,\n",
    "#                                          global_step= global_step,\n",
    "#                                          decay_steps=5000,\n",
    "#                                          decay_rate= 0.1,\n",
    "#                                          staircase=True)\n",
    "update_ops = tf.get_collection(tf.GraphKeys.UPDATE_OPS)\n",
    "with tf.control_dependencies(update_ops):\n",
    "    optimizer = tf.train.AdamOptimizer(learning_rate=learning_rate).minimize(loss, name=\"optimizer\") "
   ]
  },
  {
   "cell_type": "code",
   "execution_count": null,
   "metadata": {
    "collapsed": true
   },
   "outputs": [],
   "source": [
    "pred = tf.argmax(logits, axis=1, name=\"prediction\")\n",
    "prob = tf.nn.softmax(logits, name=\"softmax\")\n",
    "accuracy = tf.reduce_mean(tf.cast(tf.equal(pred, tf.argmax(Y, axis=1)), tf.float32), name=\"accuracy\")"
   ]
  },
  {
   "cell_type": "code",
   "execution_count": null,
   "metadata": {
    "collapsed": true
   },
   "outputs": [],
   "source": [
    "train_var = [X, Y, is_train, logits, pred, prob, accuracy]\n",
    "tf.add_to_collection('train_var', train_var[0])\n",
    "tf.add_to_collection('train_var', train_var[1])\n",
    "tf.add_to_collection('train_var', train_var[2])\n",
    "tf.add_to_collection('train_var', train_var[3])\n",
    "tf.add_to_collection('train_var', train_var[4])\n",
    "tf.add_to_collection('train_var', train_var[5])\n",
    "tf.add_to_collection('train_var', train_var[6])\n",
    "saver = tf.train.Saver()"
   ]
  },
  {
   "cell_type": "code",
   "execution_count": null,
   "metadata": {
    "collapsed": true
   },
   "outputs": [],
   "source": [
    "# initialize\n",
    "sess = tf.Session(config=tf.ConfigProto(gpu_options=tf.GPUOptions(allow_growth =True)))\n",
    "sess.run(tf.global_variables_initializer())"
   ]
  },
  {
   "cell_type": "code",
   "execution_count": null,
   "metadata": {
    "collapsed": false
   },
   "outputs": [],
   "source": [
    "cwd = os.getcwd()\n",
    "train_path = os.path.join(cwd, tfrecord_dir, tfrecord_train)\n",
    "test_path = os.path.join(cwd, tfrecord_dir, tfrecord_test)\n",
    "print(train_path)\n",
    "print(test_path)"
   ]
  },
  {
   "cell_type": "code",
   "execution_count": null,
   "metadata": {
    "collapsed": true
   },
   "outputs": [],
   "source": [
    "filename_queue = tf.train.string_input_producer([train_path], num_epochs=training_epochs)\n",
    "image_batch, label_batch = read_and_decode(filename_queue, batch_size)\n",
    "filename_queue_test = tf.train.string_input_producer([test_path], num_epochs=training_epochs)\n",
    "image_test, label_test = read_and_decode(filename_queue_test, batch_size)\n",
    "filename_queue_test_all = tf.train.string_input_producer([test_path], num_epochs=1)\n",
    "image_test_all, label_test_all = read_and_decode(filename_queue_test, n_test)"
   ]
  },
  {
   "cell_type": "code",
   "execution_count": null,
   "metadata": {
    "collapsed": true
   },
   "outputs": [],
   "source": [
    "init_op = tf.group(tf.global_variables_initializer(),\n",
    "                      tf.local_variables_initializer())\n",
    "sess = tf.Session()\n",
    "sess.run(init_op)"
   ]
  },
  {
   "cell_type": "code",
   "execution_count": null,
   "metadata": {
    "collapsed": true
   },
   "outputs": [],
   "source": [
    "coord = tf.train.Coordinator()\n",
    "threads = tf.train.start_queue_runners(coord=coord, sess=sess)"
   ]
  },
  {
   "cell_type": "code",
   "execution_count": null,
   "metadata": {
    "collapsed": false,
    "scrolled": true
   },
   "outputs": [],
   "source": [
    "# train my model\n",
    "print('Learning started. It takes sometime.')\n",
    "max_test_acc = 0.\n",
    "max_train_acc = 0.\n",
    "\n",
    "for epoch in range(training_epochs):\n",
    "    avg_cost = 0.\n",
    "    avg_train_acc = 0.\n",
    "    avg_test_acc = 0.    \n",
    "     \n",
    "    total_batch = int(n_train / batch_size)\n",
    "    total_batch_test = int(n_test / batch_size)    \n",
    "#    print('total batch is %d' % total_batch)\n",
    "#    print('total batch test is %d' % total_batch_test)\n",
    "\n",
    "    for i in range(total_batch):\n",
    "        try:\n",
    "            batch_xs, batch_ys = sess.run([image_batch, label_batch])\n",
    "        except tf.errors.OutOfRangeError:\n",
    "            print('Training pass step %d' %i)\n",
    "            pass\n",
    "#        print('Training step %d' % i)\n",
    "        \n",
    "        batch_xs = batch_xs/255.        \n",
    "        \n",
    "        feed_dict = {X: batch_xs, Y: batch_ys, is_train:True}\n",
    "        acc, c, _ = sess.run([accuracy, loss, optimizer], feed_dict=feed_dict)\n",
    "        avg_cost += c / total_batch\n",
    "        avg_train_acc += acc / total_batch\n",
    "        \n",
    "    for i in range(total_batch_test):\n",
    "        try:\n",
    "            batch_xs, batch_ys = sess.run([image_test, label_test])\n",
    "        except tf.errors.OutOfRangeError:\n",
    "            print('Validation pass step %d' %i)\n",
    "            pass\n",
    "        \n",
    "#        print('Validation step %d' % i)\n",
    "        \n",
    "        batch_xs = batch_xs/255.        \n",
    "                \n",
    "        feed_dict = {X: batch_xs, Y: batch_ys, is_train:False}\n",
    "        acc = sess.run(accuracy, feed_dict=feed_dict)\n",
    "        avg_test_acc += acc / total_batch_test\n",
    "#        print('Validation Acc = %.5f' % acc)\n",
    "    if avg_test_acc > max_test_acc:\n",
    "        max_test_acc = avg_test_acc\n",
    "        print('Validation saving a graph and weights => accuracy : {}'.format(max_test_acc))\n",
    "        saver.save(sess, os.path.join(cur_dir, 'checkpoints', 'Valid_flowers_inception_v4.ckpt'))\n",
    "    \n",
    "    if avg_train_acc > max_train_acc:\n",
    "        max_train_acc = avg_train_acc\n",
    "        print('Best Traing saving a graph and weights => accuracy : {}'.format(max_train_acc))\n",
    "        saver.save(sess, os.path.join(cur_dir, 'checkpoints', 'Train_flowers_inception_v4.ckpt'))        \n",
    "\n",
    "    print('Epoch:', '%04d' % (epoch + 1), 'cost =', '{:.9f}'.format(avg_cost), \n",
    "          'train accuracy = ', '{:.5f}'.format(avg_train_acc), \n",
    "          'validation accuracy = ', '{:.5f}'.format(avg_test_acc))          \n",
    "\n",
    "print('Learning Finished!')"
   ]
  },
  {
   "cell_type": "code",
   "execution_count": null,
   "metadata": {
    "collapsed": true
   },
   "outputs": [],
   "source": [
    "#saver.save(sess, os.path.join(cur_dir, 'checkpoints', 'mnist_save.ckpt'))"
   ]
  },
  {
   "cell_type": "code",
   "execution_count": null,
   "metadata": {
    "collapsed": true
   },
   "outputs": [],
   "source": [
    "def evaluate(X_sample, y_sample, batch_size=16):\n",
    "    \"\"\"Run a minibatch accuracy op\"\"\"\n",
    "\n",
    "    N = X_sample.shape[0]\n",
    "    correct_sample = 0\n",
    "    N = 1\n",
    "\n",
    "    for i in range(0, N, batch_size):\n",
    "        X_batch = X_sample[i: i + batch_size]\n",
    "        y_batch = y_sample[i: i + batch_size]\n",
    "        N_batch = X_batch.shape[0]\n",
    "\n",
    "        feed = {\n",
    "            X: X_batch,\n",
    "            Y: y_batch,\n",
    "            is_train: False\n",
    "        }\n",
    "\n",
    "        correct_sample += sess.run(accuracy, feed_dict=feed) * N_batch\n",
    "\n",
    "    return correct_sample / N"
   ]
  },
  {
   "cell_type": "code",
   "execution_count": null,
   "metadata": {
    "collapsed": true
   },
   "outputs": [],
   "source": [
    "print(\"\\nAccuracy Evaluates\")\n",
    "print(\"-------------------------------\")\n",
    "train_xs, train_ys = sess.run([image_batch, label_batch])\n",
    "print('Train Accuracy:', '{:.5f}'.format(evaluate(train_xs, train_ys, 16)))\n",
    "test_xs, test_ys = sess.run([image_test, label_test])\n",
    "print('Test Accuracy:', '{:.5f}'.format(evaluate(test_xs, test_ys, 16)))"
   ]
  },
  {
   "cell_type": "code",
   "execution_count": null,
   "metadata": {
    "collapsed": true
   },
   "outputs": [],
   "source": [
    "sess.close()"
   ]
  }
 ],
 "metadata": {
  "anaconda-cloud": {},
  "kernelspec": {
   "display_name": "Python 3",
   "language": "python",
   "name": "python3"
  },
  "language_info": {
   "codemirror_mode": {
    "name": "ipython",
    "version": 3
   },
   "file_extension": ".py",
   "mimetype": "text/x-python",
   "name": "python",
   "nbconvert_exporter": "python",
   "pygments_lexer": "ipython3",
   "version": "3.5.2"
  }
 },
 "nbformat": 4,
 "nbformat_minor": 2
}
